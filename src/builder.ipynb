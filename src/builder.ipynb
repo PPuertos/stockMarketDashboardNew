{
 "cells": [
  {
   "cell_type": "code",
   "execution_count": null,
   "metadata": {},
   "outputs": [],
   "source": [
    "#### MEJORAS EN LA PAGINA ####\n",
    "'''\n",
    "PORTFOLIO\n",
    "    1. Return rates del grafico. El primer valor hacerlo 0 en vez de NA para que el ultimo valor tenga dato (ARREGLADO)\n",
    "    2. Calcular la volatilidad del portafolio tomando en cuenta los pesos de los stocks, hay funcion para hacerlo\n",
    "    3. \n",
    "    \n",
    "'''"
   ]
  },
  {
   "cell_type": "code",
   "execution_count": null,
   "metadata": {},
   "outputs": [],
   "source": [
    "# BUGS PENDING 10/10/2024\n",
    "\n",
    "\"\"\"\n",
    "HOME\n",
    "    - Bar Chart (mobile): When the Returns bar chart is in \"mobile\", the bars are getting out of frame\n",
    "    - Pie Chart: Pointer when hovering on any section of the chart\n",
    "    - News: Change News recommendation system\n",
    "\n",
    "PORTFOLIO\n",
    "    - Line chart: Change dropdowns. Make sure the dropdown container doesn't go out of frame\n",
    "    - Sliders: Change the sliders to the module slider function maker.\n",
    "    \n",
    "ANALYSIS\n",
    "    - Table view (mobile): Establish a minimum width of at least 500px, so the table doesn't collapse\n",
    "\n",
    "\n",
    "GENERAL:\n",
    "    - For all the dropdowns try to emulate the design of the analysis dropdowns, and the dropdown containers of the predicions dropdowns.\n",
    "    - Searchbar (mobile): Try to use the 100% with when mobile. A good option is to disappear that searchbar and make another one for small devices that appears just in that case.\n",
    "    \n",
    "\"\"\""
   ]
  },
  {
   "cell_type": "code",
   "execution_count": 3,
   "metadata": {},
   "outputs": [
    {
     "name": "stdout",
     "output_type": "stream",
     "text": [
      "Screeners: Contenido actualizado al día de hoy\n",
      "Screeners: Trending Tickers Close Prices Already Updated\n",
      "Noticias de Stocks: Información Actualizada\n"
     ]
    }
   ],
   "source": [
    "### DOWNLOADING TRENDING TICKERS INFO ###\n",
    "### DOWNLOADING TRENDING TICKERS INFO ###\n",
    "### DOWNLOADING TRENDING TICKERS INFO ###\n",
    "\n",
    "from datetime import datetime as dt\n",
    "import pandas as pd\n",
    "import optimizationModule as om\n",
    "\n"
   ]
  },
  {
   "cell_type": "code",
   "execution_count": 66,
   "metadata": {},
   "outputs": [
    {
     "name": "stdout",
     "output_type": "stream",
     "text": [
      "200\n",
      "{\"success\":true,\"timestamp\":1726206853,\"base\":\"EUR\",\"date\":\"2024-09-13\",\"rates\":{\"MXN\":21.593797}}\n"
     ]
    }
   ],
   "source": [
    "## OPTION FOR CURRENCY CONVERTING ##\n",
    "# EXCHANGE RATES API. EURO IS THE ONLY FREE CURRENCY TO CHECK\n",
    "import requests\n",
    "\n",
    "# Tu clave de acceso\n",
    "api_key = '5f5a44679f19a672d84223a5a8260121'\n",
    "url = f'http://api.exchangeratesapi.io/latest?access_key={api_key}&base=EUR&symbols=MXN'\n",
    "import requests\n",
    "from forex_python.converter import CurrencyRates\n",
    "\n",
    "# Crear un objeto de CurrencyRates\n",
    "c = CurrencyRates()\n",
    "\n",
    "# Intenta obtener el tipo de cambio y verifica la respuesta\n",
    "response = requests.get(url)\n",
    "print(response.status_code)  # Imprime el código de estado HTTP\n",
    "print(response.text)  # Imprime el contenido de la respuesta"
   ]
  },
  {
   "cell_type": "code",
   "execution_count": 67,
   "metadata": {},
   "outputs": [],
   "source": [
    "## AQUI COMIENZA EL PROGRAMA\n",
    "# EMPEZAMOS CON CURRENCIE EXCHANGE\n",
    "\n",
    "from datetime import datetime as dt \n",
    "import pandas as pd \n",
    "\n",
    "today = dt.today()\n",
    "\n",
    "purchaseRecords = pd.read_csv('assets/portfolio_data_base.csv')\n",
    "purchaseRecords.index = pd.to_datetime(purchaseRecords['fecha'], format='%d/%m/%Y')\n",
    "purchaseRecords = purchaseRecords.drop(columns='fecha')\n",
    "\n",
    "# Extracting sample\n",
    "purchaseDate = purchaseRecords[purchaseRecords['market'] == '^MXX'].index[0]"
   ]
  },
  {
   "cell_type": "code",
   "execution_count": 68,
   "metadata": {},
   "outputs": [],
   "source": [
    "# ECHANGE RATE API V6.\n",
    "# Tu clave API de ExchangeRate-API\n",
    "api_key = '6eb30b8ac3a7db3fd622782e'\n",
    "year = purchaseDate.year\n",
    "month = purchaseDate.month\n",
    "day = purchaseDate.day\n",
    "\n",
    "# URL para obtener el valor del dólar\n",
    "url = f\"https://v6.exchangerate-api.com/v6/{api_key}/history/USD/{year}/{month}/{day}\"\n",
    "\n",
    "# Hacer la solicitud\n",
    "response = requests.get(url)\n",
    "#data = response.json()"
   ]
  },
  {
   "cell_type": "code",
   "execution_count": 23,
   "metadata": {},
   "outputs": [],
   "source": [
    "### EXTRACT THE STOCKS OF USA #\n",
    "API_KEY = 'YKRJFRTXTZ7DH6UY'\n",
    "\n",
    "import requests\n",
    "\n",
    "API_KEY = 'tu_api_key'\n",
    "url = f'https://www.alphavantage.co/query?function=LISTING_STATUS&apikey={API_KEY}'\n",
    "response = requests.get(url)\n",
    "\n",
    "# Guardar en un archivo CSV o procesar los datos\n",
    "with open('stocks_list.csv', 'w') as f:\n",
    "    f.write(response.text)"
   ]
  },
  {
   "cell_type": "code",
   "execution_count": 2,
   "metadata": {},
   "outputs": [],
   "source": [
    "import exchangeRate as er\n",
    "\n",
    "exchangeRate = float(er.ExchangeUsdToMxn())"
   ]
  },
  {
   "cell_type": "code",
   "execution_count": 3,
   "metadata": {},
   "outputs": [
    {
     "data": {
      "text/plain": [
       "19.415"
      ]
     },
     "execution_count": 3,
     "metadata": {},
     "output_type": "execute_result"
    }
   ],
   "source": [
    "exchangeRate"
   ]
  },
  {
   "cell_type": "code",
   "execution_count": 9,
   "metadata": {},
   "outputs": [
    {
     "name": "stderr",
     "output_type": "stream",
     "text": [
      "[*********************100%***********************]  1 of 1 completed"
     ]
    },
    {
     "name": "stderr",
     "output_type": "stream",
     "text": [
      "\n"
     ]
    }
   ],
   "source": [
    "import yfinance as yf\n",
    "from datetime import datetime as dt\n",
    "\n",
    "apple = yf.download('AAPL', start='2021-01-01', end=dt.today().strftime('%Y-%m-%d'))['Close']"
   ]
  },
  {
   "cell_type": "code",
   "execution_count": 17,
   "metadata": {},
   "outputs": [
    {
     "data": {
      "text/plain": [
       "'SOFI'"
      ]
     },
     "execution_count": 17,
     "metadata": {},
     "output_type": "execute_result"
    }
   ],
   "source": [
    "import numpy as np\n",
    "\n",
    "np.random.choice(symbols)"
   ]
  },
  {
   "cell_type": "code",
   "execution_count": 140,
   "metadata": {},
   "outputs": [
    {
     "data": {
      "text/plain": [
       "True"
      ]
     },
     "execution_count": 140,
     "metadata": {},
     "output_type": "execute_result"
    }
   ],
   "source": [
    "'https' in newData['^GSPC'][0]['image']"
   ]
  },
  {
   "cell_type": "code",
   "execution_count": 59,
   "metadata": {},
   "outputs": [],
   "source": [
    "preferenceStocks = pd.Series([i.split('.')[0] for i in pd.read_csv('assets/purchaseRecords.csv')['stock']]).unique()\n",
    "preferenceSectors = pd.Series([yf.Ticker(i).info['sector'] for i in preferenceStocks]).unique()"
   ]
  },
  {
   "cell_type": "code",
   "execution_count": 79,
   "metadata": {},
   "outputs": [],
   "source": [
    "newsNewMethod = yf.Tickers(['AAPL', 'NVDA']).news()"
   ]
  },
  {
   "cell_type": "code",
   "execution_count": 73,
   "metadata": {},
   "outputs": [
    {
     "data": {
      "text/plain": [
       "['Technology',\n",
       " 'Technology',\n",
       " 'Energy',\n",
       " 'Consumer Cyclical',\n",
       " 'Technology',\n",
       " 'Consumer Cyclical',\n",
       " 'Financial Services',\n",
       " 'Communication Services',\n",
       " 'Consumer Cyclical',\n",
       " 'Financial Services',\n",
       " 'Industrials',\n",
       " 'Technology',\n",
       " 'Consumer Cyclical',\n",
       " 'Communication Services',\n",
       " 'Basic Materials',\n",
       " 'Technology',\n",
       " 'Consumer Cyclical',\n",
       " 'Financial Services',\n",
       " 'Consumer Cyclical',\n",
       " 'Consumer Cyclical',\n",
       " 'Technology',\n",
       " 'Consumer Defensive',\n",
       " 'Financial Services',\n",
       " 'Technology',\n",
       " 'Communication Services',\n",
       " 'Communication Services',\n",
       " 'Healthcare',\n",
       " 'Healthcare',\n",
       " 'Industrials',\n",
       " 'Healthcare',\n",
       " 'Healthcare',\n",
       " 'Technology',\n",
       " 'Technology',\n",
       " 'Consumer Cyclical',\n",
       " 'Technology',\n",
       " 'Healthcare',\n",
       " 'Healthcare',\n",
       " 'Healthcare',\n",
       " 'Technology',\n",
       " 'Consumer Cyclical',\n",
       " 'Financial Services',\n",
       " 'Technology',\n",
       " 'Technology',\n",
       " 'Technology',\n",
       " 'Healthcare',\n",
       " 'Healthcare',\n",
       " 'Technology']"
      ]
     },
     "execution_count": 73,
     "metadata": {},
     "output_type": "execute_result"
    }
   ],
   "source": [
    "from yahooquery import Ticker\n",
    "\n",
    "# Define the ticker symbol\n",
    "stocksInfo = Ticker(symbols).summary_profile\n",
    "\n",
    "stocksSectors = []\n",
    "for i in stocksInfo:\n",
    "    stocksSectors.append(stocksInfo[i]['sector'])\n",
    "\n",
    "stocksSectors"
   ]
  },
  {
   "cell_type": "code",
   "execution_count": 104,
   "metadata": {},
   "outputs": [
    {
     "data": {
      "text/plain": [
       "{'address1': 'One Apple Park Way',\n",
       " 'city': 'Cupertino',\n",
       " 'state': 'CA',\n",
       " 'zip': '95014',\n",
       " 'country': 'United States',\n",
       " 'phone': '408 996 1010',\n",
       " 'website': 'https://www.apple.com',\n",
       " 'industry': 'Consumer Electronics',\n",
       " 'industryKey': 'consumer-electronics',\n",
       " 'industryDisp': 'Consumer Electronics',\n",
       " 'sector': 'Technology',\n",
       " 'sectorKey': 'technology',\n",
       " 'sectorDisp': 'Technology',\n",
       " 'longBusinessSummary': 'Apple Inc. designs, manufactures, and markets smartphones, personal computers, tablets, wearables, and accessories worldwide. The company offers iPhone, a line of smartphones; Mac, a line of personal computers; iPad, a line of multi-purpose tablets; and wearables, home, and accessories comprising AirPods, Apple TV, Apple Watch, Beats products, and HomePod. It also provides AppleCare support and cloud services; and operates various platforms, including the App Store that allow customers to discover and download applications and digital content, such as books, music, video, games, and podcasts. In addition, the company offers various services, such as Apple Arcade, a game subscription service; Apple Fitness+, a personalized fitness service; Apple Music, which offers users a curated listening experience with on-demand radio stations; Apple News+, a subscription news and magazine service; Apple TV+, which offers exclusive original content; Apple Card, a co-branded credit card; and Apple Pay, a cashless payment service, as well as licenses its intellectual property. The company serves consumers, and small and mid-sized businesses; and the education, enterprise, and government markets. It distributes third-party applications for its products through the App Store. The company also sells its products through its retail and online stores, and direct sales force; and third-party cellular network carriers, wholesalers, retailers, and resellers. Apple Inc. was founded in 1976 and is headquartered in Cupertino, California.',\n",
       " 'fullTimeEmployees': 161000,\n",
       " 'companyOfficers': [],\n",
       " 'irWebsite': 'http://investor.apple.com/',\n",
       " 'maxAge': 86400}"
      ]
     },
     "execution_count": 104,
     "metadata": {},
     "output_type": "execute_result"
    }
   ],
   "source": [
    "Ticker('AAPL').summary_profile['sector']"
   ]
  },
  {
   "cell_type": "code",
   "execution_count": 127,
   "metadata": {},
   "outputs": [
    {
     "data": {
      "text/plain": [
       "0"
      ]
     },
     "execution_count": 127,
     "metadata": {},
     "output_type": "execute_result"
    }
   ],
   "source": [
    "        '''\n",
    "        new = html.Div([\n",
    "            dbc.Row([\n",
    "                dbc.Col([\n",
    "                    html.Div(data['^GSPC']['AAPL']['longName'], className='h4', style={'font-weight':'800'}),\n",
    "                    html.Div(newHeadLine, className='h3 text-start mb-2', style={'font-weight':'700', 'font-size':'24px'}),\n",
    "                    html.Div(newSummary, className='small-text'),\n",
    "                    html.Div(f\"{newSource} • {newDate}\", style={'font-size':'12px', 'color':'black', 'margin-top':'10px'})\n",
    "                ], width=12, xxl=9, xl=8, lg=6),\n",
    "                dbc.Col(html.Img(src=newImage, style={'width':'100%', 'border-radius':'10px'}), width=12, xxl=3, xl=4, lg=5),\n",
    "            ]),\n",
    "        ], style={'background-color':'#fafafa','padding':'10px', 'border-radius':'12px', 'border':'1px solid black'}, className='mb-4')\n",
    "        \n",
    "        new = html.A(new, href=newUrl, target=\"_blank\", style={'textDecoration': 'none', 'color': 'inherit'})\n",
    "        return new\n",
    "'''"
   ]
  },
  {
   "cell_type": "code",
   "execution_count": 115,
   "metadata": {},
   "outputs": [
    {
     "data": {
      "text/plain": [
       "'        new = html.Div([\\n            dbc.Row([\\n                dbc.Col(html.Div(html.Img(src=newImage, style={\\'width\\':\\'100%\\', \\'border-radius\\':\\'10px\\', \\'height\\':\\'auto\\', \\'object-fit\\':\\'cover\\', \\'minHeight\\':\\'100%\\'}), style={\\'overflow\\':\\'hidden\\', \\'border-radius\\':\\'10px\\', \\'position\\':\\'relative\\', \\'width\\':\\'200px\\', \\'height\\':\\'200px\\'}), width=12, xxl=3, xl=4, lg=5),\\n                dbc.Col([\\n                    html.Div(data[\\'^GSPC\\'][\\'AAPL\\'][\\'longName\\'], className=\\'h4\\', style={\\'font-weight\\':\\'800\\'}),\\n                    html.Div(newHeadLine, className=\\'h3 text-start mb-2\\', style={\\'font-weight\\':\\'700\\', \\'font-size\\':\\'24px\\'}),\\n                    html.Div(newSummary, className=\\'small-text\\'),\\n                    html.Div(f\"{newSource} • {newDate}\", style={\\'font-size\\':\\'12px\\', \\'color\\':\\'black\\', \\'margin-top\\':\\'10px\\'})\\n                ], width=12, xxl=9, xl=8, lg=6)\\n            ])\\n        ], style={\\'background-color\\':\\'#fafafa\\',\\'padding\\':\\'10px\\', \\'border-radius\\':\\'12px\\', \\'border\\':\\'1px solid black\\'}, className=\\'mb-4\\')\\n        \\n        new = html.A(new, href=newUrl, target=\"_blank\", style={\\'textDecoration\\': \\'none\\', \\'color\\': \\'inherit\\'})\\n        return new'"
      ]
     },
     "execution_count": 115,
     "metadata": {},
     "output_type": "execute_result"
    }
   ],
   "source": [
    "'''        new = html.Div([\n",
    "            dbc.Row([\n",
    "                dbc.Col(html.Div(html.Img(src=newImage, style={'width':'100%', 'border-radius':'10px', 'height':'auto', 'object-fit':'cover', 'minHeight':'100%'}), style={'overflow':'hidden', 'border-radius':'10px', 'position':'relative', 'width':'200px', 'height':'200px'}), width=12, xxl=3, xl=4, lg=5),\n",
    "                dbc.Col([\n",
    "                    html.Div(data['^GSPC']['AAPL']['longName'], className='h4', style={'font-weight':'800'}),\n",
    "                    html.Div(newHeadLine, className='h3 text-start mb-2', style={'font-weight':'700', 'font-size':'24px'}),\n",
    "                    html.Div(newSummary, className='small-text'),\n",
    "                    html.Div(f\"{newSource} • {newDate}\", style={'font-size':'12px', 'color':'black', 'margin-top':'10px'})\n",
    "                ], width=12, xxl=9, xl=8, lg=6)\n",
    "            ])\n",
    "        ], style={'background-color':'#fafafa','padding':'10px', 'border-radius':'12px', 'border':'1px solid black'}, className='mb-4')\n",
    "        \n",
    "        new = html.A(new, href=newUrl, target=\"_blank\", style={'textDecoration': 'none', 'color': 'inherit'})\n",
    "        return new'''"
   ]
  },
  {
   "cell_type": "code",
   "execution_count": 11,
   "metadata": {},
   "outputs": [
    {
     "data": {
      "text/plain": [
       "0      2022-09-19\n",
       "1      2022-09-20\n",
       "2      2022-09-21\n",
       "3      2022-09-22\n",
       "4      2022-09-23\n",
       "          ...    \n",
       "498    2024-09-12\n",
       "499    2024-09-13\n",
       "500    2024-09-16\n",
       "501    2024-09-17\n",
       "502    2024-09-18\n",
       "Name: Date, Length: 503, dtype: object"
      ]
     },
     "execution_count": 11,
     "metadata": {},
     "output_type": "execute_result"
    }
   ],
   "source": [
    "''' INDEX\n",
    "@callback(\n",
    "    [Output('portfolio_combined_balances_home', 'children'),\n",
    "     Output('risk_score', 'children'),\n",
    "     Output('risk_score', 'style')],\n",
    "    Input('portfolio_main_data', 'data')\n",
    ")\n",
    "\n",
    "\n",
    "'''\n",
    "\n",
    "''' PAGE 1\n",
    "@callback(\n",
    "    Output('portfolio_actual_worth', 'children'),\n",
    "    Output('', 'children'),\n",
    "    Input('portfolio_main_data', 'data')\n",
    ")\n",
    "\n",
    "@callback(\n",
    "    Output('selected_market', 'data'),\n",
    "    [Input(id_item,'n_clicks') for id_item in market_id]\n",
    ")\n",
    "\n",
    "[Output('portfolio_graph','figure'),\n",
    "        Output('portfolio_actual_worth', 'children'),\n",
    "        Output('portfolio_return_rate','children'),\n",
    "        Output('portfolio_return_rate', 'style'),\n",
    "        Output('portfolio_returns','children'),\n",
    "        Output('portfolio_returns','style'),\n",
    "        Output('main_title', 'children'),\n",
    "        Output('sec_title', 'children'),\n",
    "        Output('market_investment', 'children'),\n",
    "        Output('market_period_investment', 'children'),\n",
    "        Output('VaR','children'),\n",
    "        Output('CVaR','children'),\n",
    "        Output('portfolio_risk','children'),\n",
    "        Output('portfolio_alpha','children'),\n",
    "        Output('portfolio_beta','children'),\n",
    "        Output('market_stocks', 'children'),\n",
    "        Output('stock_boxes', 'children'),\n",
    "        Output('market_boxes','children')],\n",
    "    [Input('selected_market', 'data'), Input('portfolio_main_data', 'data')] + [Input(id_item, 'n_clicks') for id_item in timelapse_id]\n",
    "'''\n",
    "\n",
    "''' PAGE 2\n",
    "@callback(\n",
    "    [Output('portfolio_graph_p1','figure'),\n",
    "        Output('sec_title_p1','children'),\n",
    "        Output('efficient_frontier_table','children')],\n",
    "    [Input('compute_button', 'n_clicks'), Input('dropdown_market_p1','value'), Input('dropdown_timelapse_p1','value'), Input('selected_stocks_p1','value')]\n",
    "'''"
   ]
  }
 ],
 "metadata": {
  "kernelspec": {
   "display_name": "Python 3",
   "language": "python",
   "name": "python3"
  },
  "language_info": {
   "codemirror_mode": {
    "name": "ipython",
    "version": 3
   },
   "file_extension": ".py",
   "mimetype": "text/x-python",
   "name": "python",
   "nbconvert_exporter": "python",
   "pygments_lexer": "ipython3",
   "version": "3.11.4"
  }
 },
 "nbformat": 4,
 "nbformat_minor": 2
}
